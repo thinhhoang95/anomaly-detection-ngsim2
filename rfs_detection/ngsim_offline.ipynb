{
 "cells": [
  {
   "attachments": {},
   "cell_type": "markdown",
   "metadata": {},
   "source": [
    "# TRAJECTORY EXTRACTION FROM VIDEO\n",
    "\n",
    "In this notebook, we apply a Multi Object Tracker along with some Computer Vision to extract vehicle trajectories from security camera. This would give us a chance to use our derived dynamic models."
   ]
  },
  {
   "cell_type": "markdown",
   "metadata": {},
   "source": []
  }
 ],
 "metadata": {
  "language_info": {
   "name": "python"
  },
  "orig_nbformat": 4
 },
 "nbformat": 4,
 "nbformat_minor": 2
}
