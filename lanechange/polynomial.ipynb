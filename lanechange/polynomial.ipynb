{
 "cells": [
  {
   "cell_type": "code",
   "execution_count": null,
   "metadata": {},
   "outputs": [],
   "source": [
    "import numpy as np \n",
    "import matplotlib.pyplot as plt \n",
    "import sklearn\n",
    "import skfda\n",
    "from scipy.stats import norm"
   ]
  },
  {
   "cell_type": "code",
   "execution_count": null,
   "metadata": {},
   "outputs": [],
   "source": [
    "Tc = norm.rvs(loc=3, scale=0.5, size=30)"
   ]
  },
  {
   "cell_type": "code",
   "execution_count": null,
   "metadata": {},
   "outputs": [],
   "source": [
    "def one(t, Tc):\n",
    "    if t<=Tc:\n",
    "        return 1\n",
    "    else:\n",
    "        return 0\n",
    "\n",
    "tv = np.arange(0,5,0.01)\n",
    "tss = np.zeros((np.shape(Tc)[0],np.shape(tv)[0]))\n",
    "for id,tc in enumerate(Tc):\n",
    "    ts = np.zeros_like(tv)\n",
    "    for idt,t in enumerate(tv):\n",
    "        ts[idt] = one(t, tc)\n",
    "    # ts is now one time series\n",
    "    tss[id,:] = ts"
   ]
  },
  {
   "cell_type": "code",
   "execution_count": null,
   "metadata": {},
   "outputs": [],
   "source": [
    "for i in range(tss.shape[0]):\n",
    "    plt.plot(tss[i])"
   ]
  },
  {
   "cell_type": "code",
   "execution_count": null,
   "metadata": {},
   "outputs": [],
   "source": [
    "plt.plot(np.average(tss, axis=0))"
   ]
  },
  {
   "cell_type": "code",
   "execution_count": null,
   "metadata": {},
   "outputs": [],
   "source": []
  }
 ],
 "metadata": {
  "interpreter": {
   "hash": "54f3a96195ab79709a6bbeee98cce8dfa439582a7ff5f18430a4a93466825c53"
  },
  "kernelspec": {
   "display_name": "Python 3.8.8 64-bit ('liberty': conda)",
   "language": "python",
   "name": "python3"
  },
  "language_info": {
   "codemirror_mode": {
    "name": "ipython",
    "version": 3
   },
   "file_extension": ".py",
   "mimetype": "text/x-python",
   "name": "python",
   "nbconvert_exporter": "python",
   "pygments_lexer": "ipython3",
   "version": "3.8.8"
  },
  "orig_nbformat": 4
 },
 "nbformat": 4,
 "nbformat_minor": 2
}
