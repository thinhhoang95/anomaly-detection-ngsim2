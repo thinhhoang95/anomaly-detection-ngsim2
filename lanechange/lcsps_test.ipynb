{
 "cells": [
  {
   "cell_type": "code",
   "execution_count": 2,
   "metadata": {},
   "outputs": [],
   "source": [
    "from LCSPS import LCSPS"
   ]
  },
  {
   "cell_type": "code",
   "execution_count": 3,
   "metadata": {},
   "outputs": [],
   "source": [
    "%load_ext autoreload\n",
    "%autoreload 2"
   ]
  },
  {
   "cell_type": "code",
   "execution_count": 4,
   "metadata": {},
   "outputs": [
    {
     "name": "stderr",
     "output_type": "stream",
     "text": [
      "OMP: Info #270: omp_set_nested routine deprecated, please use omp_set_max_active_levels instead.\n"
     ]
    },
    {
     "data": {
      "image/png": "[encoded data removed]",
      "text/plain": [
       "<Figure size 432x288 with 1 Axes>"
      ]
     },
     "metadata": {
      "needs_background": "light"
     },
     "output_type": "display_data"
    }
   ],
   "source": [
    "import pickle\n",
    "import numpy as np\n",
    "from matplotlib import pyplot as plt \n",
    "import sys \n",
    "\n",
    "sys.path.append('/Users/thinhhoang/Documents/anomaly-detection-ngsim/lanechange')\n",
    "\n",
    "pfile = pickle.load(open( \"lane.pyo\", \"rb\" ))\n",
    "tvec = pfile['t_vec'][0]\n",
    "xvec = pfile['x_vec']\n",
    "\n",
    "fpca_discretized = pickle.load(open('fpca.pyo', 'rb'))\n",
    "basis = fpca_discretized.components_.data_matrix.reshape((-1,fpca_discretized.components_.data_matrix.shape[1])).transpose()\n",
    "basis = basis[:,:2]\n",
    "mean = fpca_discretized.mean_.data_matrix.reshape((-1,1))\n",
    "\n",
    "lcdts = pickle.load(open('lcsp.pyo','rb'))\n",
    "\n",
    "sample_traj = np.zeros_like(mean)\n",
    "sample_traj[:24] = (lcdts[0].reshape((-1,1)) - mean)[0]\n",
    "sample_traj[24:] = (lcdts[0].reshape((-1,1)) - mean)[:-24]\n",
    "# sample_traj = xvec[16,:]\n",
    "plt.plot(sample_traj)\n",
    "plt.show()"
   ]
  },
  {
   "cell_type": "code",
   "execution_count": 5,
   "metadata": {},
   "outputs": [
    {
     "data": {
      "text/plain": [
       "array([[0., 1.],\n",
       "       [1., 2.],\n",
       "       [2., 3.],\n",
       "       [3., 4.],\n",
       "       [4., 5.]])"
      ]
     },
     "execution_count": 5,
     "metadata": {},
     "output_type": "execute_result"
    }
   ],
   "source": [
    "sample_basis = np.zeros((5,2))\n",
    "sample_basis[:,0] = np.arange(5)\n",
    "sample_basis[:,1] = np.arange(5) + 1\n",
    "sample_basis"
   ]
  },
  {
   "cell_type": "code",
   "execution_count": 19,
   "metadata": {},
   "outputs": [
    {
     "name": "stdout",
     "output_type": "stream",
     "text": [
      "Initialization of LCSPS completed\n"
     ]
    }
   ],
   "source": [
    "lcs = LCSPS(\n",
    "    np.array([[0],[0]]),\n",
    "    np.array([[30,0],[0,15]]),\n",
    "    1e-2,\n",
    "    mean,\n",
    "    basis\n",
    ")"
   ]
  },
  {
   "cell_type": "code",
   "execution_count": 20,
   "metadata": {},
   "outputs": [
    {
     "name": "stdout",
     "output_type": "stream",
     "text": [
      "Completed adding datums into the LCS\n"
     ]
    }
   ],
   "source": [
    "for i in range(120):\n",
    "    lcs.add_datum(sample_traj[i])\n",
    "print('Completed adding datums into the LCS')"
   ]
  },
  {
   "cell_type": "code",
   "execution_count": 21,
   "metadata": {},
   "outputs": [],
   "source": [
    "pij = lcs.marginalize_repr_all_subseqs()\n",
    "ck = lcs.get_change_point(pij)"
   ]
  },
  {
   "cell_type": "code",
   "execution_count": 22,
   "metadata": {},
   "outputs": [
    {
     "data": {
      "text/plain": [
       "array([ -1.,  24., 118.])"
      ]
     },
     "execution_count": 22,
     "metadata": {},
     "output_type": "execute_result"
    }
   ],
   "source": [
    "ck"
   ]
  },
  {
   "cell_type": "code",
   "execution_count": null,
   "metadata": {},
   "outputs": [],
   "source": []
  }
 ],
 "metadata": {
  "interpreter": {
   "hash": "54f3a96195ab79709a6bbeee98cce8dfa439582a7ff5f18430a4a93466825c53"
  },
  "kernelspec": {
   "display_name": "Python 3.8.8 ('liberty')",
   "language": "python",
   "name": "python3"
  },
  "language_info": {
   "codemirror_mode": {
    "name": "ipython",
    "version": 3
   },
   "file_extension": ".py",
   "mimetype": "text/x-python",
   "name": "python",
   "nbconvert_exporter": "python",
   "pygments_lexer": "ipython3",
   "version": "3.8.8"
  },
  "orig_nbformat": 4
 },
 "nbformat": 4,
 "nbformat_minor": 2
}
