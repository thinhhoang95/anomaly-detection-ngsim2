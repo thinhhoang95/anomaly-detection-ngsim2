{
 "cells": [
  {
   "cell_type": "markdown",
   "id": "3a670ae0",
   "metadata": {},
   "source": [
    "# Extracting lane change data\n",
    "\n",
    "To extract lanewise trajectories, to be learned to extract the basis"
   ]
  },
  {
   "cell_type": "markdown",
   "id": "a927db28",
   "metadata": {},
   "source": [
    "## Preambles\n",
    "\n",
    "Loading and previewing some data"
   ]
  },
  {
   "cell_type": "code",
   "execution_count": null,
   "id": "22d324a8",
   "metadata": {},
   "outputs": [],
   "source": [
    "%load_ext autoreload\n",
    "%autoreload 2"
   ]
  },
  {
   "cell_type": "code",
   "execution_count": null,
   "id": "41a95dd2",
   "metadata": {},
   "outputs": [],
   "source": [
    "import pandas as pd\n",
    "import numpy as np\n",
    "from matplotlib import pyplot as plt\n",
    "import sys \n",
    "sys.path.append('/Users/thinhhoang/Documents/anomaly-detection-ngsim/')"
   ]
  },
  {
   "cell_type": "code",
   "execution_count": null,
   "id": "f67b3487",
   "metadata": {},
   "outputs": [],
   "source": [
    "df = pd.read_csv('../kalmaned2.csv')\n",
    "df.head()"
   ]
  },
  {
   "cell_type": "markdown",
   "id": "b533bc2d",
   "metadata": {},
   "source": [
    "## Determining the road patch boundaries \n",
    "\n",
    "By plotting the histogram and the max, min of the vehicle coordinates"
   ]
  },
  {
   "cell_type": "code",
   "execution_count": null,
   "id": "de4e8e8c",
   "metadata": {},
   "outputs": [],
   "source": [
    "df['Local_X'].min()"
   ]
  },
  {
   "cell_type": "code",
   "execution_count": null,
   "id": "fe3a5ae3",
   "metadata": {},
   "outputs": [],
   "source": [
    "df['Local_X'].max()"
   ]
  },
  {
   "cell_type": "code",
   "execution_count": null,
   "id": "7cfd51ed",
   "metadata": {},
   "outputs": [],
   "source": [
    "df['Local_X'].hist()"
   ]
  },
  {
   "cell_type": "markdown",
   "id": "ff054af2",
   "metadata": {},
   "source": [
    "We see that the X of vehicles range from 0 to approximately 75ft."
   ]
  },
  {
   "cell_type": "code",
   "execution_count": null,
   "id": "c3260be8",
   "metadata": {},
   "outputs": [],
   "source": [
    "df['Local_Y'].hist()"
   ]
  },
  {
   "cell_type": "code",
   "execution_count": null,
   "id": "0e69de2a",
   "metadata": {},
   "outputs": [],
   "source": [
    "df['Local_Y'].min()"
   ]
  },
  {
   "cell_type": "code",
   "execution_count": null,
   "id": "90980b83",
   "metadata": {},
   "outputs": [],
   "source": [
    "df['Local_Y'].max()"
   ]
  },
  {
   "cell_type": "markdown",
   "id": "26a0e991",
   "metadata": {},
   "source": [
    "Similarly, for the Y coordinates, ranging from 0 to 2224.58ft."
   ]
  },
  {
   "cell_type": "markdown",
   "id": "3a60f167",
   "metadata": {},
   "source": [
    "## Generate a bunch of random trajectories inside the road patch"
   ]
  },
  {
   "cell_type": "code",
   "execution_count": null,
   "id": "7963e57f",
   "metadata": {},
   "outputs": [],
   "source": [
    "import pandas as pd\n",
    "from ngsim_processor import NGSIM_Processor as NGSIM\n",
    "\n",
    "if __name__ == '__main__':\n",
    "    container_t = []\n",
    "    container_x = []\n",
    "    container_y = []\n",
    "    num_of_trajs = 200\n",
    "    traj_length = []\n",
    "\n",
    "    df = pd.read_csv('../kalmaned2.csv')\n",
    "    ngsim = NGSIM(df)\n",
    "    ngsim.set_patch(0.0, 75.0, 500.0, 750.0) # see the notebook df_stats.py to see where these numbers come from\n",
    "\n",
    "    for i in range(num_of_trajs):\n",
    "        t, x, y = ngsim.get_trajectory_random_in_patch_for_a_duration(40000) # 40 seconds, note that the boundary is not very important\n",
    "        container_t.append(t)\n",
    "        container_x.append(x)\n",
    "        container_y.append(y)\n",
    "        traj_length.append(len(t))\n",
    "        if i%50 == 0:\n",
    "            print('Trajectory {:d} generated, length {:d}'.format(i, len(t)))\n",
    "\n",
    "    print('Process completed')\n",
    "\n",
    "\n",
    "# See PyCharm help at https://www.jetbrains.com/help/pycharm/"
   ]
  },
  {
   "cell_type": "markdown",
   "id": "55b24c07-46b6-4c82-a61b-1902c681ef34",
   "metadata": {},
   "source": [
    "This is the distribution of the starting time of the trajectory (so that it can be useful to set the starting gtime of the simulator)"
   ]
  },
  {
   "cell_type": "code",
   "execution_count": null,
   "id": "e7c92ff5-acbe-446a-bd55-2de384804d35",
   "metadata": {},
   "outputs": [],
   "source": [
    "plt.hist(np.array([x[0] - df['Global_Time'].min() for x in container_t]), bins = 20)"
   ]
  },
  {
   "cell_type": "markdown",
   "id": "af7d3def",
   "metadata": {},
   "source": [
    "Set all entrance time to zero"
   ]
  },
  {
   "cell_type": "code",
   "execution_count": null,
   "id": "98d5acd5",
   "metadata": {},
   "outputs": [],
   "source": [
    "for i in range(num_of_trajs):\n",
    "    container_t[i] -= container_t[i][0]\n",
    "    # container_t[i] -= df['Global_Time'].min()"
   ]
  },
  {
   "cell_type": "code",
   "execution_count": null,
   "id": "aa46238c",
   "metadata": {},
   "outputs": [],
   "source": [
    "plt.hist(traj_length, bins=75)"
   ]
  },
  {
   "cell_type": "markdown",
   "id": "29ed2626",
   "metadata": {},
   "source": [
    "From this distribution of trajectory length, we need to remove all trajectories whose length is different than 251. Here we choose copying method to new arrays because popping elements will cause the index to jump around."
   ]
  },
  {
   "cell_type": "code",
   "execution_count": null,
   "id": "b4f77635",
   "metadata": {},
   "outputs": [],
   "source": [
    "container_t1 = []\n",
    "container_x1 = []\n",
    "container_y1 = []\n",
    "for i in range(num_of_trajs):\n",
    "    if traj_length[i]==401:\n",
    "        container_t1.append(container_t[i])\n",
    "        container_x1.append(container_x[i])\n",
    "        container_y1.append(container_y[i])\n",
    "num_of_trajs = len(container_t1)\n",
    "container_x = np.array(container_x1.copy())\n",
    "container_y = np.array(container_y1.copy())\n",
    "container_t = np.array(container_t1.copy())\n",
    "del container_t1, container_x1, container_y1"
   ]
  },
  {
   "cell_type": "markdown",
   "id": "40e6d523",
   "metadata": {},
   "source": [
    "Converting to numpy arrays"
   ]
  },
  {
   "cell_type": "code",
   "execution_count": null,
   "id": "c7271535",
   "metadata": {},
   "outputs": [],
   "source": [
    "container_x_new = np.array(container_x)\n",
    "container_y_new = np.array(container_y)\n",
    "container_t_new = np.array(container_t)"
   ]
  },
  {
   "cell_type": "code",
   "execution_count": null,
   "id": "a382c46d",
   "metadata": {},
   "outputs": [],
   "source": [
    "for i in range(num_of_trajs):\n",
    "    plt.plot(container_x_new[i,:])"
   ]
  },
  {
   "cell_type": "markdown",
   "id": "46d5529d",
   "metadata": {},
   "source": [
    "## Save these trajectories into a file"
   ]
  },
  {
   "cell_type": "code",
   "execution_count": null,
   "id": "ac75c56d",
   "metadata": {},
   "outputs": [],
   "source": [
    "import pickle\n",
    "\n",
    "file_to_store = open(\"lane.pyo\", \"wb\")\n",
    "object_to_store = {\n",
    "    't_vec': container_t_new,\n",
    "    'x_vec': container_x_new,\n",
    "    'y_vec': container_y_new\n",
    "}\n",
    "\n",
    "pickle.dump(object_to_store, file_to_store)\n",
    "file_to_store.close()"
   ]
  },
  {
   "cell_type": "markdown",
   "id": "7897d20f",
   "metadata": {},
   "source": [
    "# FPCA decomposition and distribution learning"
   ]
  },
  {
   "cell_type": "code",
   "execution_count": null,
   "id": "bf1ebec2",
   "metadata": {},
   "outputs": [],
   "source": [
    "import sklearn\n",
    "import skfda"
   ]
  },
  {
   "cell_type": "code",
   "execution_count": null,
   "id": "0bcdb1b7",
   "metadata": {},
   "outputs": [],
   "source": [
    "fdgrx = skfda.FDataGrid(container_x_new, new_t_vec)\n",
    "fdgry = skfda.FDataGrid(container_y_new, new_t_vec)"
   ]
  },
  {
   "cell_type": "markdown",
   "id": "0eeb5ee4",
   "metadata": {},
   "source": [
    "## FPCA decomposition for X component"
   ]
  },
  {
   "cell_type": "code",
   "execution_count": null,
   "id": "8f9c0993",
   "metadata": {},
   "outputs": [],
   "source": [
    "fdgrx.plot()\n",
    "print('')\n",
    "plt.xlabel('Timestep (hundreth of a sec)')\n",
    "plt.ylabel('Roadwise coordinate (m)')\n",
    "plt.grid(True)\n",
    "print('')"
   ]
  },
  {
   "cell_type": "code",
   "execution_count": null,
   "id": "5688ebe7",
   "metadata": {},
   "outputs": [],
   "source": [
    "from skfda.exploratory.visualization import plot_fpca_perturbation_graphs\n",
    "from skfda.preprocessing.dim_reduction.projection import FPCA"
   ]
  },
  {
   "cell_type": "code",
   "execution_count": null,
   "id": "3aea90f8",
   "metadata": {},
   "outputs": [],
   "source": [
    "fpca_discretized_rw = FPCA(n_components=2)\n",
    "fpca_discretized_rw.fit(fdgrx)\n",
    "fpca_discretized_rw.components_.plot()\n",
    "plt.xlabel('Timestep (hundreth of a sec)')\n",
    "plt.ylabel('Roadwise coordinate (m)')\n",
    "plt.grid(True)\n",
    "plt.legend(['First FPCA component', 'Second FPCA component'])\n",
    "print('')"
   ]
  },
  {
   "cell_type": "code",
   "execution_count": null,
   "id": "b0381b90",
   "metadata": {},
   "outputs": [],
   "source": [
    "fpca_discretized_rw.mean_.plot()\n",
    "plt.xlabel('Timestep (hundreth of a sec)')\n",
    "plt.ylabel('Roadwise coordinate (m)')\n",
    "plt.grid(True)\n",
    "print('')\n",
    "mean_curve = fpca_discretized_rw.mean_.data_matrix.reshape((-1))"
   ]
  },
  {
   "cell_type": "code",
   "execution_count": null,
   "id": "1a9cf6b9",
   "metadata": {},
   "outputs": [],
   "source": [
    "fpca_discretized_rw.explained_variance_ratio_"
   ]
  },
  {
   "cell_type": "code",
   "execution_count": null,
   "id": "d95adb69",
   "metadata": {},
   "outputs": [],
   "source": [
    "friendly_basis_rw = fpca_discretized_rw.components_.data_matrix.squeeze().transpose()\n",
    "coeffs_rw = np.matmul(container_x_new - mean_curve, friendly_basis_rw)\n",
    "plt.scatter(coeffs_rw[:,0], coeffs_rw[:,1])\n",
    "plt.xlabel('First PCA component score')\n",
    "plt.ylabel('Second PCA component score')\n",
    "plt.grid(True)"
   ]
  },
  {
   "cell_type": "markdown",
   "id": "9a4e7042",
   "metadata": {},
   "source": [
    "## FPCA with Y component"
   ]
  },
  {
   "cell_type": "code",
   "execution_count": null,
   "id": "1694af4c",
   "metadata": {},
   "outputs": [],
   "source": [
    "fpca_discretized_rw2 = FPCA(n_components=2)\n",
    "fpca_discretized_rw2.fit(fdgry)\n",
    "fpca_discretized_rw2.components_.plot()\n",
    "plt.xlabel('Timestep (hundreth of a sec)')\n",
    "plt.ylabel('Lanewise coordinate (m)')\n",
    "plt.grid(True)\n",
    "plt.legend(['First FPCA component', 'Second FPCA component'])\n",
    "print('')"
   ]
  },
  {
   "cell_type": "code",
   "execution_count": null,
   "id": "24c658a6",
   "metadata": {},
   "outputs": [],
   "source": [
    "fpca_discretized_rw2.mean_.plot()\n",
    "plt.xlabel('Timestep (hundreth of a sec)')\n",
    "plt.ylabel('Lanewise coordinate (m)')\n",
    "plt.grid(True)\n",
    "print('')\n",
    "mean_curve2 = fpca_discretized_rw2.mean_.data_matrix.reshape((-1))"
   ]
  },
  {
   "cell_type": "code",
   "execution_count": null,
   "id": "9684ac1e",
   "metadata": {},
   "outputs": [],
   "source": [
    "fpca_discretized_rw2.explained_variance_ratio_"
   ]
  },
  {
   "cell_type": "code",
   "execution_count": null,
   "id": "27e0ea88",
   "metadata": {},
   "outputs": [],
   "source": [
    "friendly_basis_rw2 = fpca_discretized_rw2.components_.data_matrix.squeeze().transpose()\n",
    "coeffs_rw2 = np.matmul(container_y_new - mean_curve2, friendly_basis_rw2)\n",
    "plt.scatter(coeffs_rw2[:,0], coeffs_rw2[:,1])\n",
    "plt.xlabel('First PCA component score')\n",
    "plt.ylabel('Second PCA component score')\n",
    "plt.grid(True)"
   ]
  },
  {
   "cell_type": "markdown",
   "id": "99500490-1867-4a4d-b352-31b37d9d9e73",
   "metadata": {},
   "source": [
    "## Fitting a distribution onto the data"
   ]
  },
  {
   "cell_type": "code",
   "execution_count": null,
   "id": "4e22fe72-b3e6-4c2b-83c8-0b2ec59aaf11",
   "metadata": {},
   "outputs": [],
   "source": [
    "# Plotting helper function\n",
    "\n",
    "import itertools\n",
    "from scipy import linalg\n",
    "import matplotlib as mpl\n",
    "def plot_results(X, Y_, means, covariances, index, title):\n",
    "    color_iter = itertools.cycle(['navy', 'c', 'cornflowerblue', 'gold',\n",
    "                              'darkorange'])\n",
    "    splot = plt.subplot(2, 1, 1 + index)\n",
    "    for i, (mean, covar, color) in enumerate(zip(\n",
    "            means, covariances, color_iter)):\n",
    "        v, w = np.linalg.eigh(covar)\n",
    "        v = 2. * np.sqrt(2.) * np.sqrt(v)\n",
    "        u = w[0] / np.linalg.norm(w[0])\n",
    "        # as the DP will not use every component it has access to\n",
    "        # unless it needs it, we shouldn't plot the redundant\n",
    "        # components.\n",
    "        if not np.any(Y_ == i):\n",
    "            continue\n",
    "        plt.scatter(X[Y_ == i, 0], X[Y_ == i, 1], .8, color=color)\n",
    "\n",
    "        # Plot an ellipse to show the Gaussian component\n",
    "        angle = np.arctan(u[1] / u[0])\n",
    "        angle = 180. * angle / np.pi  # convert to degrees\n",
    "        ell = mpl.patches.Ellipse(mean, v[0], v[1], 180. + angle, color=color)\n",
    "        ell.set_clip_box(splot.bbox)\n",
    "        ell.set_alpha(0.5)\n",
    "        splot.add_artist(ell)\n",
    "\n",
    "    plt.xlim(X[:,0].min(), X[:,0].max())\n",
    "    plt.ylim(X[:,1].min(), X[:,1].max())\n",
    "    plt.xticks(())\n",
    "    plt.yticks(())\n",
    "    plt.title(title)"
   ]
  },
  {
   "cell_type": "code",
   "execution_count": null,
   "id": "9978939b-045e-4e10-ad34-110f00fbd545",
   "metadata": {},
   "outputs": [],
   "source": [
    "from sklearn.mixture import GaussianMixture"
   ]
  },
  {
   "cell_type": "markdown",
   "id": "ac7371a2-8e94-4ac4-a483-6fa4946df1b9",
   "metadata": {},
   "source": [
    "Learning the X functionals (lanewise coordinate) distribution"
   ]
  },
  {
   "cell_type": "code",
   "execution_count": null,
   "id": "7f53eb79-9cee-4c56-868c-6ebcdc83b466",
   "metadata": {},
   "outputs": [],
   "source": [
    "gm_rw = GaussianMixture(n_components=1, random_state=0).fit(coeffs_rw)"
   ]
  },
  {
   "cell_type": "code",
   "execution_count": null,
   "id": "d4ff8c85-786e-49b2-8e63-7c8a5784d590",
   "metadata": {},
   "outputs": [],
   "source": [
    "plot_results(coeffs_rw, gm_rw.predict(coeffs_rw), gm_rw.means_, gm_rw.covariances_, 0, 'Gaussian Mixture for Lanewise PCA components')\n",
    "plt.xlabel('First PCA component score')\n",
    "plt.ylabel('Second PCA component score')\n",
    "plt.grid(True)"
   ]
  },
  {
   "cell_type": "markdown",
   "id": "40e758a0-48cf-498c-a5d1-7907fc840b9d",
   "metadata": {},
   "source": [
    "Learning the Y functionals (roadwise coordinate) distribution"
   ]
  },
  {
   "cell_type": "code",
   "execution_count": null,
   "id": "563da932-ccf0-437b-98d8-b78dcd1d18cd",
   "metadata": {},
   "outputs": [],
   "source": [
    "gm_rw2 = GaussianMixture(n_components=1, random_state=0).fit(coeffs_rw2)"
   ]
  },
  {
   "cell_type": "code",
   "execution_count": null,
   "id": "fb987b1c-d1da-4a0f-b159-2140e1a3bb2d",
   "metadata": {},
   "outputs": [],
   "source": [
    "plot_results(coeffs_rw2, gm_rw2.predict(coeffs_rw), gm_rw2.means_, gm_rw2.covariances_, 0, 'Gaussian Mixture for Roadwise PCA components')\n",
    "plt.xlabel('First PCA component score')\n",
    "plt.ylabel('Second PCA component score')\n",
    "plt.grid(True)"
   ]
  },
  {
   "cell_type": "markdown",
   "id": "7a1ac0fa-0a15-4914-b3e0-8be3afddcfb6",
   "metadata": {},
   "source": [
    "## Learned parameters"
   ]
  },
  {
   "cell_type": "markdown",
   "id": "f1806d12-0eae-4633-abbe-ab751abee54b",
   "metadata": {},
   "source": [
    "For the X component"
   ]
  },
  {
   "cell_type": "code",
   "execution_count": null,
   "id": "e4ec54fc-4a8b-4f2e-aba1-d21dfa886ef4",
   "metadata": {},
   "outputs": [],
   "source": [
    "gm_rw.means_"
   ]
  },
  {
   "cell_type": "code",
   "execution_count": null,
   "id": "693ace77-f31e-429c-af91-8a62c1e2575e",
   "metadata": {},
   "outputs": [],
   "source": [
    "gm_rw.covariances_"
   ]
  },
  {
   "cell_type": "markdown",
   "id": "dbb461f5-6726-4e65-944b-b2791590f8df",
   "metadata": {},
   "source": [
    "For the Y component"
   ]
  },
  {
   "cell_type": "code",
   "execution_count": null,
   "id": "a1629867-d46f-46fa-99fd-4edec53f2777",
   "metadata": {},
   "outputs": [],
   "source": [
    "gm_rw2.means_"
   ]
  },
  {
   "cell_type": "code",
   "execution_count": null,
   "id": "ddb32e5a-10f7-48fd-93ed-9e217a7f8c98",
   "metadata": {},
   "outputs": [],
   "source": [
    "gm_rw2.covariances_"
   ]
  },
  {
   "cell_type": "markdown",
   "id": "fd797a1d-7494-4963-ab29-0e4b463d20de",
   "metadata": {},
   "source": [
    "Export these gaussian mixture model to a file so that we can load it to our NGSIM simulator"
   ]
  },
  {
   "cell_type": "code",
   "execution_count": null,
   "id": "17c80be3-337f-422a-a3e8-04c31abfc975",
   "metadata": {},
   "outputs": [],
   "source": [
    "import pickle as pkl\n",
    "\n",
    "pickle.dump({\n",
    "    'cov': gm_rw2.covariances_,\n",
    "    'mu': gm_rw2.means_,\n",
    "    'mean_curve': mean_curve2,\n",
    "    'friendly_basis': friendly_basis_rw2\n",
    "}, open( \"y.pkl\", \"wb\" ) )\n",
    "\n",
    "print('Y component Gaussian Mixture dumped to y.pkl')\n",
    "\n",
    "pickle.dump({\n",
    "    'cov': gm_rw.covariances_,\n",
    "    'mu': gm_rw.means_,\n",
    "    'mean_curve': mean_curve,\n",
    "    'friendly_basis': friendly_basis_rw\n",
    "}, open( \"x.pkl\", \"wb\" ) )\n",
    "\n",
    "print('X component Gaussian Mixture dumped to x.pkl')"
   ]
  },
  {
   "cell_type": "markdown",
   "id": "f3447d38-23d6-464f-a1da-e25c64ddf8d6",
   "metadata": {},
   "source": [
    "## Generation of Entropy Curves"
   ]
  },
  {
   "cell_type": "code",
   "execution_count": null,
   "id": "94bd79dd-0002-4a3a-b239-e311ab213d35",
   "metadata": {},
   "outputs": [],
   "source": [
    "curve"
   ]
  }
 ],
 "metadata": {
  "kernelspec": {
   "display_name": "Python 3 (ipykernel)",
   "language": "python",
   "name": "python3"
  },
  "language_info": {
   "codemirror_mode": {
    "name": "ipython",
    "version": 3
   },
   "file_extension": ".py",
   "mimetype": "text/x-python",
   "name": "python",
   "nbconvert_exporter": "python",
   "pygments_lexer": "ipython3",
   "version": "3.8.8"
  }
 },
 "nbformat": 4,
 "nbformat_minor": 5
}
