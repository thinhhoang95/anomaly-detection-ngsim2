{
 "cells": [
  {
   "cell_type": "markdown",
   "metadata": {},
   "source": [
    "# Multimodal trajectory decomposition test\n",
    "\n",
    "A vehicle travelling on the road may have to stop due to red light traffic, or continue moving due to green light traffic. We wonder if the AFRAID transform still works or not?\n",
    "\n",
    "So let's construct an experiment on SUMO, record the trajectories, then perform KL decomposition."
   ]
  },
  {
   "cell_type": "markdown",
   "metadata": {},
   "source": []
  }
 ],
 "metadata": {
  "language_info": {
   "name": "python"
  },
  "orig_nbformat": 4
 },
 "nbformat": 4,
 "nbformat_minor": 2
}
