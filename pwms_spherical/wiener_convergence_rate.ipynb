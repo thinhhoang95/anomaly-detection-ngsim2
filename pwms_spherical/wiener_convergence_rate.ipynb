{
 "cells": [
  {
   "cell_type": "code",
   "execution_count": 1,
   "metadata": {},
   "outputs": [],
   "source": [
    "import numpy as np "
   ]
  },
  {
   "cell_type": "code",
   "execution_count": 18,
   "metadata": {},
   "outputs": [],
   "source": [
    "s = 0\n",
    "m = np.zeros((100,))\n",
    "for k in range(100):\n",
    "    s = s + 1/(2*k+1)**2\n",
    "    m[k] = s\n",
    "m = m / s"
   ]
  },
  {
   "cell_type": "code",
   "execution_count": 19,
   "metadata": {},
   "outputs": [
    {
     "data": {
      "text/plain": [
       "(0.0, 1.0)"
      ]
     },
     "execution_count": 19,
     "metadata": {},
     "output_type": "execute_result"
    },
    {
     "data": {
      "image/png": "[encoded data removed]",
      "text/plain": [
       "<Figure size 432x288 with 1 Axes>"
      ]
     },
     "metadata": {
      "needs_background": "light"
     },
     "output_type": "display_data"
    }
   ],
   "source": [
    "from matplotlib import pyplot as plt \n",
    "plt.stem(1-m)\n",
    "plt.ylim((0,1))"
   ]
  },
  {
   "cell_type": "code",
   "execution_count": 21,
   "metadata": {},
   "outputs": [
    {
     "data": {
      "text/plain": [
       "0.1877846521682923"
      ]
     },
     "execution_count": 21,
     "metadata": {},
     "output_type": "execute_result"
    }
   ],
   "source": [
    "(s - 1) / s"
   ]
  },
  {
   "cell_type": "code",
   "execution_count": 22,
   "metadata": {},
   "outputs": [
    {
     "data": {
      "text/plain": [
       "array([1.87784652e-01, 9.75385024e-02, 6.50498885e-02, 4.84740651e-02,\n",
       "       3.84467151e-02, 3.17341916e-02, 2.69281836e-02, 2.33183376e-02,\n",
       "       2.05079039e-02, 1.82579999e-02, 1.64162417e-02, 1.48808630e-02,\n",
       "       1.35813184e-02, 1.24671684e-02, 1.15013951e-02, 1.06562179e-02,\n",
       "       9.91038190e-03, 9.24734897e-03, 8.65405799e-03, 8.12005710e-03,\n",
       "       7.63688319e-03, 7.19761042e-03, 6.79651642e-03, 6.42883179e-03,\n",
       "       6.09054968e-03, 5.77827927e-03, 5.48913176e-03, 5.22063082e-03,\n",
       "       4.97064148e-03, 4.73731332e-03, 4.51903454e-03, 4.31439474e-03,\n",
       "       4.12215442e-03, 3.94121984e-03, 3.77062220e-03, 3.60950033e-03,\n",
       "       3.45708612e-03, 3.31269228e-03, 3.17570200e-03, 3.04556014e-03,\n",
       "       2.92176570e-03, 2.80386537e-03, 2.69144802e-03, 2.58413988e-03,\n",
       "       2.48160038e-03, 2.38351858e-03, 2.28961000e-03, 2.19961384e-03,\n",
       "       2.11329060e-03, 2.03041994e-03, 1.95079879e-03, 1.87423970e-03,\n",
       "       1.80056938e-03, 1.72962734e-03, 1.66126480e-03, 1.59534358e-03,\n",
       "       1.53173521e-03, 1.47032006e-03, 1.41098663e-03, 1.35363084e-03,\n",
       "       1.29815543e-03, 1.24446944e-03, 1.19248766e-03, 1.14213021e-03,\n",
       "       1.09332212e-03, 1.04599299e-03, 1.00007658e-03, 9.55510578e-04,\n",
       "       9.12236277e-04, 8.70198321e-04, 8.29344473e-04, 7.89625399e-04,\n",
       "       7.50994467e-04, 7.13407566e-04, 6.76822937e-04, 6.41201019e-04,\n",
       "       6.06504306e-04, 5.72697216e-04, 5.39745966e-04, 5.07618466e-04,\n",
       "       4.76284206e-04, 4.45714168e-04, 4.15880730e-04, 3.86757586e-04,\n",
       "       3.58319669e-04, 3.30543076e-04, 3.03405005e-04, 2.76883687e-04,\n",
       "       2.50958335e-04, 2.25609085e-04, 2.00816943e-04, 1.76563745e-04,\n",
       "       1.52832106e-04, 1.29605381e-04, 1.06867626e-04, 8.46035610e-05,\n",
       "       6.27985368e-05, 4.14385014e-05, 2.05099707e-05, 0.00000000e+00])"
      ]
     },
     "execution_count": 22,
     "metadata": {},
     "output_type": "execute_result"
    }
   ],
   "source": [
    "1-m"
   ]
  },
  {
   "cell_type": "code",
   "execution_count": null,
   "metadata": {},
   "outputs": [],
   "source": []
  }
 ],
 "metadata": {
  "kernelspec": {
   "display_name": "liberty",
   "language": "python",
   "name": "liberty"
  },
  "language_info": {
   "codemirror_mode": {
    "name": "ipython",
    "version": 3
   },
   "file_extension": ".py",
   "mimetype": "text/x-python",
   "name": "python",
   "nbconvert_exporter": "python",
   "pygments_lexer": "ipython3",
   "version": "3.8.8"
  },
  "orig_nbformat": 4,
  "vscode": {
   "interpreter": {
    "hash": "54f3a96195ab79709a6bbeee98cce8dfa439582a7ff5f18430a4a93466825c53"
   }
  }
 },
 "nbformat": 4,
 "nbformat_minor": 2
}
