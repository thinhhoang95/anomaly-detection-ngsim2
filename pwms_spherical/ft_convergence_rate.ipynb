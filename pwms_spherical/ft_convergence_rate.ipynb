{
 "cells": [
  {
   "cell_type": "markdown",
   "metadata": {},
   "source": [
    "# FT Convergence Rate\n",
    "\n",
    "We study the convergence rate to zero of the M term approximations by Fourier Transform. We know the best approximation will yield $O(n^{-2})$ convergence rate. The question is, if we can find one transform that achieves this convergence rate, the KLT of course will yield $O(n^{-2})$ convergence rate as well."
   ]
  },
  {
   "cell_type": "code",
   "execution_count": 1,
   "metadata": {},
   "outputs": [],
   "source": [
    "import numpy as np \n",
    "from matplotlib import pyplot as plt"
   ]
  },
  {
   "cell_type": "code",
   "execution_count": 2,
   "metadata": {},
   "outputs": [],
   "source": [
    "def term_n(n):\n",
    "    r = 0\n",
    "    for k in range(100):\n",
    "        r += 1/((k+0.5)**2 * (k+0.5+2*n)**2 * (k+0.5-2*n)**2)\n",
    "    return r "
   ]
  },
  {
   "cell_type": "code",
   "execution_count": 3,
   "metadata": {},
   "outputs": [
    {
     "data": {
      "text/plain": [
       "[<matplotlib.lines.Line2D at 0x1148dd400>]"
      ]
     },
     "execution_count": 3,
     "metadata": {},
     "output_type": "execute_result"
    },
    {
     "data": {
      "image/png": "[encoded data removed]",
      "text/plain": [
       "<Figure size 432x288 with 1 Axes>"
      ]
     },
     "metadata": {
      "needs_background": "light"
     },
     "output_type": "display_data"
    }
   ],
   "source": [
    "res = np.zeros((10,))\n",
    "for n0 in range(10):\n",
    "    for n in range(n0, 100):\n",
    "        res[n0] += term_n(n)\n",
    "plt.plot(res)"
   ]
  },
  {
   "cell_type": "code",
   "execution_count": 4,
   "metadata": {},
   "outputs": [
    {
     "data": {
      "text/plain": [
       "array([6.45933359e+01, 5.00723023e-01, 3.80853166e-02, 9.17045997e-03,\n",
       "       3.45888337e-03, 1.65170485e-03, 9.11484542e-04, 5.54511024e-04,\n",
       "       3.61825619e-04, 2.48876981e-04])"
      ]
     },
     "execution_count": 4,
     "metadata": {},
     "output_type": "execute_result"
    }
   ],
   "source": [
    "res"
   ]
  },
  {
   "cell_type": "code",
   "execution_count": null,
   "metadata": {},
   "outputs": [],
   "source": []
  }
 ],
 "metadata": {
  "kernelspec": {
   "display_name": "Python 3.8.8 ('liberty')",
   "language": "python",
   "name": "python3"
  },
  "language_info": {
   "codemirror_mode": {
    "name": "ipython",
    "version": 3
   },
   "file_extension": ".py",
   "mimetype": "text/x-python",
   "name": "python",
   "nbconvert_exporter": "python",
   "pygments_lexer": "ipython3",
   "version": "3.8.8"
  },
  "orig_nbformat": 4,
  "vscode": {
   "interpreter": {
    "hash": "54f3a96195ab79709a6bbeee98cce8dfa439582a7ff5f18430a4a93466825c53"
   }
  }
 },
 "nbformat": 4,
 "nbformat_minor": 2
}
