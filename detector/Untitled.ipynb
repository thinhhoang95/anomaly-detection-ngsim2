{
 "cells": [
  {
   "cell_type": "markdown",
   "id": "d486776e-55d4-432c-9e35-9ed82b032b5b",
   "metadata": {},
   "source": [
    "# Prototype of Anomaly Classifier 1: Shewhart-like Control Chart"
   ]
  },
  {
   "cell_type": "markdown",
   "id": "06c66267-0713-4993-8877-e1659997bb98",
   "metadata": {},
   "source": [
    "In this notebook, we are going to test the First anomaly classifier: a Shewhart-like Control Chart with periodic restarts."
   ]
  },
  {
   "cell_type": "markdown",
   "id": "485bee8a-2b24-4658-adf5-277c32cda040",
   "metadata": {},
   "source": [
    "First, we just need to load some data and make up some cases for testing. The data should come from CCPLearn."
   ]
  },
  {
   "cell_type": "code",
   "execution_count": null,
   "id": "12861d94-8f1a-4036-ba3e-808ea19e03b4",
   "metadata": {},
   "outputs": [],
   "source": []
  }
 ],
 "metadata": {
  "kernelspec": {
   "display_name": "Python 3 (ipykernel)",
   "language": "python",
   "name": "python3"
  },
  "language_info": {
   "codemirror_mode": {
    "name": "ipython",
    "version": 3
   },
   "file_extension": ".py",
   "mimetype": "text/x-python",
   "name": "python",
   "nbconvert_exporter": "python",
   "pygments_lexer": "ipython3",
   "version": "3.8.10"
  }
 },
 "nbformat": 4,
 "nbformat_minor": 5
}
