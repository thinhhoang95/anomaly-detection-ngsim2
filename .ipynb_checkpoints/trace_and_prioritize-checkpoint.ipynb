{
 "cells": [
  {
   "cell_type": "markdown",
   "id": "1804812a-212a-4f6f-9a83-0a79ed4bb102",
   "metadata": {},
   "source": [
    "# Trace and Prioritize\n",
    "\n",
    "The goal of this notebook is to: \n",
    "\n",
    "1. Perform radar tracing to give the \"vehicle POV\" of surrounding traffic.\n",
    "2. Estimating anomalies and assign the \"anomaly score\" onto each vehicle trajectory."
   ]
  },
  {
   "cell_type": "code",
   "execution_count": null,
   "id": "3030e940-6d4c-4581-8e28-0fc66b7c494f",
   "metadata": {},
   "outputs": [],
   "source": []
  }
 ],
 "metadata": {
  "kernelspec": {
   "display_name": "Python 3",
   "language": "python",
   "name": "python3"
  },
  "language_info": {
   "codemirror_mode": {
    "name": "ipython",
    "version": 3
   },
   "file_extension": ".py",
   "mimetype": "text/x-python",
   "name": "python",
   "nbconvert_exporter": "python",
   "pygments_lexer": "ipython3",
   "version": "3.8.8"
  }
 },
 "nbformat": 4,
 "nbformat_minor": 5
}
