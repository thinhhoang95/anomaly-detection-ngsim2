{
 "cells": [
  {
   "cell_type": "markdown",
   "metadata": {},
   "source": [
    "# Generating the CDF for $A^T X A + b X$ where $X \\sim \\mathcal{N}(0,1)$"
   ]
  },
  {
   "cell_type": "markdown",
   "metadata": {},
   "source": [
    "Suppose we want to evaluate $ P(y<=1.2) = F(1.2) $ where y follows a weighted chi-square distribution $ y = 1.2 x_1 + 1.6 x_2 $."
   ]
  },
  {
   "cell_type": "code",
   "execution_count": 1,
   "metadata": {},
   "outputs": [],
   "source": [
    "import numpy as np"
   ]
  },
  {
   "cell_type": "markdown",
   "metadata": {},
   "source": [
    "## Step 1: solve for the saddle point"
   ]
  },
  {
   "cell_type": "markdown",
   "metadata": {},
   "source": [
    "The equation for the saddle point is $ \\sum \\frac{\\lambda_i}{1-2 \\lambda_i \\hat{s}} = \\frac{1.2}{1 - 2.4 s} + \\frac{1.6}{1 - 3.2 s} = 1.2 $. We may solve this numerically:"
   ]
  },
  {
   "cell_type": "code",
   "execution_count": 2,
   "metadata": {},
   "outputs": [],
   "source": [
    "from scipy.optimize import fsolve"
   ]
  },
  {
   "cell_type": "code",
   "execution_count": 11,
   "metadata": {},
   "outputs": [
    {
     "name": "stdout",
     "output_type": "stream",
     "text": [
      "Solution found:  [-0.47199259]\n"
     ]
    }
   ],
   "source": [
    "x = 1.2\n",
    "\n",
    "def K_prime(s):\n",
    "    return 1.2/(1 - 2.4*s) + 1.6/(1 - 3.2*s) - x\n",
    "\n",
    "s_hat = fsolve(K_prime, 0)\n",
    "print('Solution found: ', s_hat)"
   ]
  },
  {
   "cell_type": "markdown",
   "metadata": {},
   "source": [
    "Next step is to solve for $K''(\\hat{s}) = \\sum \\frac{\\lambda_i^2}{(1-2 \\lambda_i \\hat{s})^2} = \\frac{2 \\times 1.2^2}{(1-2 \\times 1.2 \\times \\hat{s})^2} + \\frac{2 \\times 1.6^2}{(1-2 \\times 1.6 \\times \\hat{s})^2}$"
   ]
  },
  {
   "cell_type": "code",
   "execution_count": 12,
   "metadata": {},
   "outputs": [
    {
     "name": "stdout",
     "output_type": "stream",
     "text": [
      "Kpp is  [1.44558148]\n"
     ]
    }
   ],
   "source": [
    "Kpp = 2 * (1.2 ** 2) / (1 - 2 * 1.2 * s_hat)**2 + 2 * (1.6 ** 2) / (1 - 2 * 1.6 * s_hat)**2\n",
    "print('Kpp is ', Kpp)"
   ]
  },
  {
   "cell_type": "markdown",
   "metadata": {},
   "source": [
    "And also $K(\\hat{s})$"
   ]
  },
  {
   "cell_type": "code",
   "execution_count": 15,
   "metadata": {},
   "outputs": [
    {
     "name": "stdout",
     "output_type": "stream",
     "text": [
      "Kz is  [-0.83893]\n"
     ]
    }
   ],
   "source": [
    "Kz = -.5 * (np.log(1 - 2*1.2*s_hat) + np.log(1 - 2*1.6*s_hat))\n",
    "print('Kz is ', Kz)"
   ]
  },
  {
   "cell_type": "markdown",
   "metadata": {},
   "source": [
    "Next, we evaluate $\\hat{w}$ and $\\hat{u}$ according to the formula."
   ]
  },
  {
   "cell_type": "code",
   "execution_count": 17,
   "metadata": {},
   "outputs": [
    {
     "name": "stdout",
     "output_type": "stream",
     "text": [
      "w_hat is  [-0.73829383]\n",
      "u_hat is  [-0.56748772]\n"
     ]
    }
   ],
   "source": [
    "w_hat = np.sign(s_hat) * np.sqrt(2 * (s_hat * x - Kz))\n",
    "u_hat = s_hat * np.sqrt(Kpp)\n",
    "print('w_hat is ', w_hat)\n",
    "print('u_hat is ', u_hat)"
   ]
  },
  {
   "cell_type": "markdown",
   "metadata": {},
   "source": [
    "## Step 2: applying the saddle point formula"
   ]
  },
  {
   "cell_type": "code",
   "execution_count": 18,
   "metadata": {},
   "outputs": [],
   "source": [
    "from scipy.stats import norm"
   ]
  },
  {
   "cell_type": "code",
   "execution_count": 19,
   "metadata": {},
   "outputs": [
    {
     "name": "stdout",
     "output_type": "stream",
     "text": [
      "[0.35400929]\n"
     ]
    }
   ],
   "source": [
    "Py = norm.cdf(w_hat) + norm.pdf(w_hat) * (1/w_hat - 1/u_hat)\n",
    "print(Py)"
   ]
  },
  {
   "cell_type": "markdown",
   "metadata": {},
   "source": [
    "But the question is what is the actual real value? Let's try again but with one variable only."
   ]
  },
  {
   "cell_type": "markdown",
   "metadata": {},
   "source": []
  },
  {
   "cell_type": "markdown",
   "metadata": {},
   "source": [
    "## Step 1: solve for the saddle point"
   ]
  },
  {
   "cell_type": "markdown",
   "metadata": {},
   "source": [
    "The equation for the saddle point is $ \\sum \\frac{\\lambda_i}{1-2 \\lambda_i \\hat{s}} = \\frac{1.2}{1 - 2.4 s} = 1.0 $. We may solve this numerically:"
   ]
  },
  {
   "cell_type": "code",
   "execution_count": 22,
   "metadata": {},
   "outputs": [],
   "source": [
    "from scipy.optimize import fsolve"
   ]
  },
  {
   "cell_type": "code",
   "execution_count": 32,
   "metadata": {},
   "outputs": [
    {
     "name": "stdout",
     "output_type": "stream",
     "text": [
      "Solution found:  [-0.41666667]\n"
     ]
    }
   ],
   "source": [
    "x = 0.6\n",
    "\n",
    "def K_prime(s):\n",
    "    return 1.2/(1 - 2.4*s) - x\n",
    "\n",
    "s_hat = fsolve(K_prime, 0)\n",
    "print('Solution found: ', s_hat)"
   ]
  },
  {
   "cell_type": "markdown",
   "metadata": {},
   "source": [
    "Next step is to solve for $K''(\\hat{s}) = \\sum \\frac{\\lambda_i^2}{(1-2 \\lambda_i \\hat{s})^2} = \\frac{2 \\times 1.2^2}{(1-2 \\times 1.2 \\times \\hat{s})^2} $"
   ]
  },
  {
   "cell_type": "code",
   "execution_count": 33,
   "metadata": {},
   "outputs": [
    {
     "name": "stdout",
     "output_type": "stream",
     "text": [
      "Kpp is  [0.72]\n"
     ]
    }
   ],
   "source": [
    "Kpp = 2 * (1.2 ** 2) / (1 - 2 * 1.2 * s_hat)**2\n",
    "print('Kpp is ', Kpp)"
   ]
  },
  {
   "cell_type": "markdown",
   "metadata": {},
   "source": [
    "And also $K(\\hat{s})$"
   ]
  },
  {
   "cell_type": "code",
   "execution_count": 34,
   "metadata": {},
   "outputs": [
    {
     "name": "stdout",
     "output_type": "stream",
     "text": [
      "Kz is  [-0.34657359]\n"
     ]
    }
   ],
   "source": [
    "Kz = -.5 * (np.log(1 - 2*1.2*s_hat))\n",
    "print('Kz is ', Kz)"
   ]
  },
  {
   "cell_type": "markdown",
   "metadata": {},
   "source": [
    "Next, we evaluate $\\hat{w}$ and $\\hat{u}$ according to the formula."
   ]
  },
  {
   "cell_type": "code",
   "execution_count": 35,
   "metadata": {},
   "outputs": [
    {
     "name": "stdout",
     "output_type": "stream",
     "text": [
      "w_hat is  [-0.43948513]\n",
      "u_hat is  [-0.35355339]\n"
     ]
    }
   ],
   "source": [
    "w_hat = np.sign(s_hat) * np.sqrt(2 * (s_hat * x - Kz))\n",
    "u_hat = s_hat * np.sqrt(Kpp)\n",
    "print('w_hat is ', w_hat)\n",
    "print('u_hat is ', u_hat)"
   ]
  },
  {
   "cell_type": "markdown",
   "metadata": {},
   "source": [
    "## Step 2: applying the saddle point formula"
   ]
  },
  {
   "cell_type": "code",
   "execution_count": 36,
   "metadata": {},
   "outputs": [],
   "source": [
    "from scipy.stats import norm"
   ]
  },
  {
   "cell_type": "code",
   "execution_count": 37,
   "metadata": {},
   "outputs": [
    {
     "name": "stdout",
     "output_type": "stream",
     "text": [
      "[0.53047447]\n"
     ]
    }
   ],
   "source": [
    "Py = norm.cdf(w_hat) + norm.pdf(w_hat) * (1/w_hat - 1/u_hat)\n",
    "print(Py)"
   ]
  }
 ],
 "metadata": {
  "interpreter": {
   "hash": "54f3a96195ab79709a6bbeee98cce8dfa439582a7ff5f18430a4a93466825c53"
  },
  "kernelspec": {
   "display_name": "Python 3.8.8 64-bit ('liberty': conda)",
   "name": "python3"
  },
  "language_info": {
   "codemirror_mode": {
    "name": "ipython",
    "version": 3
   },
   "file_extension": ".py",
   "mimetype": "text/x-python",
   "name": "python",
   "nbconvert_exporter": "python",
   "pygments_lexer": "ipython3",
   "version": "3.8.8"
  },
  "orig_nbformat": 4
 },
 "nbformat": 4,
 "nbformat_minor": 2
}
