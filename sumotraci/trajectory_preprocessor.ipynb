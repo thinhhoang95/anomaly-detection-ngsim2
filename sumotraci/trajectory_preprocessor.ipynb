{
 "cells": [
  {
   "cell_type": "code",
   "execution_count": 34,
   "metadata": {},
   "outputs": [],
   "source": [
    "import pandas as pd\n",
    "from matplotlib import pyplot as plt\n",
    "from random import sample"
   ]
  },
  {
   "cell_type": "code",
   "execution_count": 35,
   "metadata": {},
   "outputs": [
    {
     "data": {
      "text/html": [
       "<div>\n",
       "<style scoped>\n",
       "    .dataframe tbody tr th:only-of-type {\n",
       "        vertical-align: middle;\n",
       "    }\n",
       "\n",
       "    .dataframe tbody tr th {\n",
       "        vertical-align: top;\n",
       "    }\n",
       "\n",
       "    .dataframe thead th {\n",
       "        text-align: right;\n",
       "    }\n",
       "</style>\n",
       "<table border=\"1\" class=\"dataframe\">\n",
       "  <thead>\n",
       "    <tr style=\"text-align: right;\">\n",
       "      <th></th>\n",
       "      <th>time</th>\n",
       "      <th>vehicle_id</th>\n",
       "      <th>edge</th>\n",
       "      <th>lane</th>\n",
       "      <th>x</th>\n",
       "      <th>y</th>\n",
       "    </tr>\n",
       "  </thead>\n",
       "  <tbody>\n",
       "    <tr>\n",
       "      <th>0</th>\n",
       "      <td>0</td>\n",
       "      <td>flow_1.0</td>\n",
       "      <td>gneE0</td>\n",
       "      <td>gneE0_1</td>\n",
       "      <td>5.1</td>\n",
       "      <td>-4.8</td>\n",
       "    </tr>\n",
       "    <tr>\n",
       "      <th>1</th>\n",
       "      <td>0</td>\n",
       "      <td>flow_10.0</td>\n",
       "      <td>-gneE1</td>\n",
       "      <td>-gneE1_2</td>\n",
       "      <td>501.6</td>\n",
       "      <td>-494.9</td>\n",
       "    </tr>\n",
       "    <tr>\n",
       "      <th>2</th>\n",
       "      <td>0</td>\n",
       "      <td>flow_11.0</td>\n",
       "      <td>-gneE1</td>\n",
       "      <td>-gneE1_0</td>\n",
       "      <td>508.0</td>\n",
       "      <td>-494.9</td>\n",
       "    </tr>\n",
       "    <tr>\n",
       "      <th>3</th>\n",
       "      <td>0</td>\n",
       "      <td>flow_3.0</td>\n",
       "      <td>-gneE2</td>\n",
       "      <td>-gneE2_1</td>\n",
       "      <td>994.9</td>\n",
       "      <td>4.8</td>\n",
       "    </tr>\n",
       "    <tr>\n",
       "      <th>4</th>\n",
       "      <td>0</td>\n",
       "      <td>flow_6.0</td>\n",
       "      <td>-gneE3</td>\n",
       "      <td>-gneE3_1</td>\n",
       "      <td>495.2</td>\n",
       "      <td>494.9</td>\n",
       "    </tr>\n",
       "  </tbody>\n",
       "</table>\n",
       "</div>"
      ],
      "text/plain": [
       "   time vehicle_id    edge      lane      x      y\n",
       "0     0   flow_1.0   gneE0   gneE0_1    5.1   -4.8\n",
       "1     0  flow_10.0  -gneE1  -gneE1_2  501.6 -494.9\n",
       "2     0  flow_11.0  -gneE1  -gneE1_0  508.0 -494.9\n",
       "3     0   flow_3.0  -gneE2  -gneE2_1  994.9    4.8\n",
       "4     0   flow_6.0  -gneE3  -gneE3_1  495.2  494.9"
      ]
     },
     "execution_count": 35,
     "metadata": {},
     "output_type": "execute_result"
    }
   ],
   "source": [
    "df = pd.read_csv(\"trajectory.csv\")\n",
    "df.columns = [\"time\", \"vehicle_id\", \"edge\", \"lane\", \"x\", \"y\",\"toremove\"]\n",
    "del df['toremove']\n",
    "df.head() # df now holds the data"
   ]
  },
  {
   "cell_type": "code",
   "execution_count": 36,
   "metadata": {},
   "outputs": [
    {
     "data": {
      "text/html": [
       "<div>\n",
       "<style scoped>\n",
       "    .dataframe tbody tr th:only-of-type {\n",
       "        vertical-align: middle;\n",
       "    }\n",
       "\n",
       "    .dataframe tbody tr th {\n",
       "        vertical-align: top;\n",
       "    }\n",
       "\n",
       "    .dataframe thead th {\n",
       "        text-align: right;\n",
       "    }\n",
       "</style>\n",
       "<table border=\"1\" class=\"dataframe\">\n",
       "  <thead>\n",
       "    <tr style=\"text-align: right;\">\n",
       "      <th></th>\n",
       "      <th>time</th>\n",
       "      <th>vehicle_id</th>\n",
       "      <th>edge</th>\n",
       "      <th>lane</th>\n",
       "      <th>x</th>\n",
       "      <th>y</th>\n",
       "    </tr>\n",
       "  </thead>\n",
       "  <tbody>\n",
       "    <tr>\n",
       "      <th>6</th>\n",
       "      <td>1</td>\n",
       "      <td>flow_0.0</td>\n",
       "      <td>gneE0</td>\n",
       "      <td>gneE0_2</td>\n",
       "      <td>6.979857</td>\n",
       "      <td>-1.6</td>\n",
       "    </tr>\n",
       "    <tr>\n",
       "      <th>18</th>\n",
       "      <td>2</td>\n",
       "      <td>flow_0.0</td>\n",
       "      <td>gneE0</td>\n",
       "      <td>gneE0_2</td>\n",
       "      <td>10.801003</td>\n",
       "      <td>-1.6</td>\n",
       "    </tr>\n",
       "    <tr>\n",
       "      <th>30</th>\n",
       "      <td>3</td>\n",
       "      <td>flow_0.0</td>\n",
       "      <td>gneE0</td>\n",
       "      <td>gneE0_2</td>\n",
       "      <td>17.049435</td>\n",
       "      <td>-1.6</td>\n",
       "    </tr>\n",
       "    <tr>\n",
       "      <th>42</th>\n",
       "      <td>4</td>\n",
       "      <td>flow_0.0</td>\n",
       "      <td>gneE0</td>\n",
       "      <td>gneE0_2</td>\n",
       "      <td>25.085248</td>\n",
       "      <td>-1.6</td>\n",
       "    </tr>\n",
       "    <tr>\n",
       "      <th>54</th>\n",
       "      <td>5</td>\n",
       "      <td>flow_0.0</td>\n",
       "      <td>gneE0</td>\n",
       "      <td>gneE0_2</td>\n",
       "      <td>34.933731</td>\n",
       "      <td>-1.6</td>\n",
       "    </tr>\n",
       "  </tbody>\n",
       "</table>\n",
       "</div>"
      ],
      "text/plain": [
       "    time vehicle_id   edge     lane          x    y\n",
       "6      1   flow_0.0  gneE0  gneE0_2   6.979857 -1.6\n",
       "18     2   flow_0.0  gneE0  gneE0_2  10.801003 -1.6\n",
       "30     3   flow_0.0  gneE0  gneE0_2  17.049435 -1.6\n",
       "42     4   flow_0.0  gneE0  gneE0_2  25.085248 -1.6\n",
       "54     5   flow_0.0  gneE0  gneE0_2  34.933731 -1.6"
      ]
     },
     "execution_count": 36,
     "metadata": {},
     "output_type": "execute_result"
    }
   ],
   "source": [
    "# Obtain all the traces of a particular edge, here gneE0 is chosen\n",
    "# df_edge = df[(df['vehicle_id'].isin(selected_vehicle_ids)) & (df['edge'] == 'gneE0')]\n",
    "df_edge = df[df['edge'] == 'gneE0']\n",
    "vehicle_ids_on_edge = df_edge['vehicle_id'].unique().tolist()\n",
    "selected_vehicle_ids = sample(vehicle_ids_on_edge, 100) # get 100 vehicle traces\n",
    "df_mini = df_edge[df_edge['vehicle_id'].isin(selected_vehicle_ids)]\n",
    "df_mini.head()"
   ]
  },
  {
   "cell_type": "code",
   "execution_count": 37,
   "metadata": {},
   "outputs": [
    {
     "name": "stdout",
     "output_type": "stream",
     "text": [
      "Max length of trajectory x: 99\n",
      "Max length of trajectory y: 99\n"
     ]
    },
    {
     "data": {
      "image/png": "[encoded data removed]",
      "text/plain": [
       "<Figure size 432x288 with 2 Axes>"
      ]
     },
     "metadata": {
      "needs_background": "light"
     },
     "output_type": "display_data"
    }
   ],
   "source": [
    "fig = plt.figure()\n",
    "plt_x = fig.add_subplot(2,1,1)\n",
    "plt_x.grid(True)\n",
    "plt_y = fig.add_subplot(2,1,2)\n",
    "plt_y.grid(True)\n",
    "max_length_y = 0\n",
    "max_length_x = 0\n",
    "\n",
    "for veh_id in selected_vehicle_ids:\n",
    "    df_of_veh = df_mini[df_mini['vehicle_id'] == veh_id]\n",
    "    t_vec = df_of_veh['time'].to_numpy()\n",
    "    t_vec = t_vec - t_vec[0]\n",
    "    x_vec = df_of_veh['x'].to_numpy()\n",
    "    y_vec = df_of_veh['y'].to_numpy()\n",
    "    if x_vec.shape[0] > max_length_x:\n",
    "        max_length_x = x_vec.shape[0]\n",
    "    if y_vec.shape[0] > max_length_y:\n",
    "        max_length_y = y_vec.shape[0]\n",
    "    plt_x.plot(t_vec, x_vec)\n",
    "    plt_y.plot(t_vec, y_vec)\n",
    "\n",
    "print('Max length of trajectory x: {:d}'.format(max_length_x))\n",
    "print('Max length of trajectory y: {:d}'.format(max_length_y))"
   ]
  },
  {
   "cell_type": "code",
   "execution_count": 33,
   "metadata": {},
   "outputs": [],
   "source": [
    "# Export the data to CSV to be processed with unsupervised segmentation in R\n",
    "df_mini[['vehicle_id','time','x','y']].to_csv('edge_trajectories.csv')"
   ]
  },
  {
   "cell_type": "code",
   "execution_count": null,
   "metadata": {},
   "outputs": [],
   "source": []
  }
 ],
 "metadata": {
  "interpreter": {
   "hash": "54f3a96195ab79709a6bbeee98cce8dfa439582a7ff5f18430a4a93466825c53"
  },
  "kernelspec": {
   "display_name": "Python 3.8.8 ('liberty')",
   "language": "python",
   "name": "python3"
  },
  "language_info": {
   "codemirror_mode": {
    "name": "ipython",
    "version": 3
   },
   "file_extension": ".py",
   "mimetype": "text/x-python",
   "name": "python",
   "nbconvert_exporter": "python",
   "pygments_lexer": "ipython3",
   "version": "3.8.8"
  },
  "orig_nbformat": 4
 },
 "nbformat": 4,
 "nbformat_minor": 2
}
