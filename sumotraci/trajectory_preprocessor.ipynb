{
 "cells": [
  {
   "cell_type": "code",
   "execution_count": 1,
   "metadata": {},
   "outputs": [],
   "source": [
    "import pandas as pd\n",
    "from matplotlib import pyplot as plt\n",
    "from random import sample"
   ]
  },
  {
   "cell_type": "code",
   "execution_count": 2,
   "metadata": {},
   "outputs": [
    {
     "data": {
      "text/html": [
       "<div>\n",
       "<style scoped>\n",
       "    .dataframe tbody tr th:only-of-type {\n",
       "        vertical-align: middle;\n",
       "    }\n",
       "\n",
       "    .dataframe tbody tr th {\n",
       "        vertical-align: top;\n",
       "    }\n",
       "\n",
       "    .dataframe thead th {\n",
       "        text-align: right;\n",
       "    }\n",
       "</style>\n",
       "<table border=\"1\" class=\"dataframe\">\n",
       "  <thead>\n",
       "    <tr style=\"text-align: right;\">\n",
       "      <th></th>\n",
       "      <th>time</th>\n",
       "      <th>vehicle_id</th>\n",
       "      <th>edge</th>\n",
       "      <th>lane</th>\n",
       "      <th>x</th>\n",
       "      <th>y</th>\n",
       "    </tr>\n",
       "  </thead>\n",
       "  <tbody>\n",
       "    <tr>\n",
       "      <th>0</th>\n",
       "      <td>3</td>\n",
       "      <td>flow_0.0</td>\n",
       "      <td>gneE0</td>\n",
       "      <td>gneE0_1</td>\n",
       "      <td>6.125964</td>\n",
       "      <td>-11.2</td>\n",
       "    </tr>\n",
       "    <tr>\n",
       "      <th>1</th>\n",
       "      <td>4</td>\n",
       "      <td>flow_0.0</td>\n",
       "      <td>gneE0</td>\n",
       "      <td>gneE0_1</td>\n",
       "      <td>7.173879</td>\n",
       "      <td>-11.2</td>\n",
       "    </tr>\n",
       "    <tr>\n",
       "      <th>2</th>\n",
       "      <td>5</td>\n",
       "      <td>flow_0.0</td>\n",
       "      <td>gneE0</td>\n",
       "      <td>gneE0_1</td>\n",
       "      <td>8.238620</td>\n",
       "      <td>-11.2</td>\n",
       "    </tr>\n",
       "    <tr>\n",
       "      <th>3</th>\n",
       "      <td>5</td>\n",
       "      <td>flow_0.1</td>\n",
       "      <td>gneE0</td>\n",
       "      <td>gneE0_3</td>\n",
       "      <td>5.100000</td>\n",
       "      <td>-4.8</td>\n",
       "    </tr>\n",
       "    <tr>\n",
       "      <th>4</th>\n",
       "      <td>6</td>\n",
       "      <td>flow_0.0</td>\n",
       "      <td>gneE0</td>\n",
       "      <td>gneE0_1</td>\n",
       "      <td>9.320816</td>\n",
       "      <td>-11.2</td>\n",
       "    </tr>\n",
       "  </tbody>\n",
       "</table>\n",
       "</div>"
      ],
      "text/plain": [
       "   time vehicle_id   edge     lane         x     y\n",
       "0     3   flow_0.0  gneE0  gneE0_1  6.125964 -11.2\n",
       "1     4   flow_0.0  gneE0  gneE0_1  7.173879 -11.2\n",
       "2     5   flow_0.0  gneE0  gneE0_1  8.238620 -11.2\n",
       "3     5   flow_0.1  gneE0  gneE0_3  5.100000  -4.8\n",
       "4     6   flow_0.0  gneE0  gneE0_1  9.320816 -11.2"
      ]
     },
     "execution_count": 2,
     "metadata": {},
     "output_type": "execute_result"
    }
   ],
   "source": [
    "df = pd.read_csv(\"trajectory.csv\")\n",
    "df.columns = [\"time\", \"vehicle_id\", \"edge\", \"lane\", \"x\", \"y\",\"toremove\"]\n",
    "del df['toremove']\n",
    "df.head() # df now holds the data"
   ]
  },
  {
   "cell_type": "code",
   "execution_count": 3,
   "metadata": {},
   "outputs": [
    {
     "data": {
      "text/html": [
       "<div>\n",
       "<style scoped>\n",
       "    .dataframe tbody tr th:only-of-type {\n",
       "        vertical-align: middle;\n",
       "    }\n",
       "\n",
       "    .dataframe tbody tr th {\n",
       "        vertical-align: top;\n",
       "    }\n",
       "\n",
       "    .dataframe thead th {\n",
       "        text-align: right;\n",
       "    }\n",
       "</style>\n",
       "<table border=\"1\" class=\"dataframe\">\n",
       "  <thead>\n",
       "    <tr style=\"text-align: right;\">\n",
       "      <th></th>\n",
       "      <th>time</th>\n",
       "      <th>vehicle_id</th>\n",
       "      <th>edge</th>\n",
       "      <th>lane</th>\n",
       "      <th>x</th>\n",
       "      <th>y</th>\n",
       "    </tr>\n",
       "  </thead>\n",
       "  <tbody>\n",
       "    <tr>\n",
       "      <th>3</th>\n",
       "      <td>5</td>\n",
       "      <td>flow_0.1</td>\n",
       "      <td>gneE0</td>\n",
       "      <td>gneE0_3</td>\n",
       "      <td>5.100000</td>\n",
       "      <td>-4.8</td>\n",
       "    </tr>\n",
       "    <tr>\n",
       "      <th>5</th>\n",
       "      <td>6</td>\n",
       "      <td>flow_0.1</td>\n",
       "      <td>gneE0</td>\n",
       "      <td>gneE0_3</td>\n",
       "      <td>6.123400</td>\n",
       "      <td>-4.8</td>\n",
       "    </tr>\n",
       "    <tr>\n",
       "      <th>7</th>\n",
       "      <td>7</td>\n",
       "      <td>flow_0.1</td>\n",
       "      <td>gneE0</td>\n",
       "      <td>gneE0_3</td>\n",
       "      <td>7.161216</td>\n",
       "      <td>-4.8</td>\n",
       "    </tr>\n",
       "    <tr>\n",
       "      <th>9</th>\n",
       "      <td>8</td>\n",
       "      <td>flow_0.1</td>\n",
       "      <td>gneE0</td>\n",
       "      <td>gneE0_3</td>\n",
       "      <td>8.223547</td>\n",
       "      <td>-4.8</td>\n",
       "    </tr>\n",
       "    <tr>\n",
       "      <th>11</th>\n",
       "      <td>9</td>\n",
       "      <td>flow_0.1</td>\n",
       "      <td>gneE0</td>\n",
       "      <td>gneE0_3</td>\n",
       "      <td>9.304487</td>\n",
       "      <td>-4.8</td>\n",
       "    </tr>\n",
       "  </tbody>\n",
       "</table>\n",
       "</div>"
      ],
      "text/plain": [
       "    time vehicle_id   edge     lane         x    y\n",
       "3      5   flow_0.1  gneE0  gneE0_3  5.100000 -4.8\n",
       "5      6   flow_0.1  gneE0  gneE0_3  6.123400 -4.8\n",
       "7      7   flow_0.1  gneE0  gneE0_3  7.161216 -4.8\n",
       "9      8   flow_0.1  gneE0  gneE0_3  8.223547 -4.8\n",
       "11     9   flow_0.1  gneE0  gneE0_3  9.304487 -4.8"
      ]
     },
     "execution_count": 3,
     "metadata": {},
     "output_type": "execute_result"
    }
   ],
   "source": [
    "# Obtain all the traces of a particular edge, here gneE0 is chosen\n",
    "# df_edge = df[(df['vehicle_id'].isin(selected_vehicle_ids)) & (df['edge'] == 'gneE0')]\n",
    "df_edge = df[df['edge'] == 'gneE0']\n",
    "vehicle_ids_on_edge = df_edge['vehicle_id'].unique().tolist()\n",
    "selected_vehicle_ids = sample(vehicle_ids_on_edge, 200) # get 100 vehicle traces\n",
    "df_mini = df_edge[df_edge['vehicle_id'].isin(selected_vehicle_ids)]\n",
    "df_mini.head()"
   ]
  },
  {
   "cell_type": "code",
   "execution_count": 4,
   "metadata": {},
   "outputs": [
    {
     "name": "stdout",
     "output_type": "stream",
     "text": [
      "Max length of trajectory x: 489\n",
      "Max length of trajectory y: 489\n"
     ]
    },
    {
     "data": {
      "image/png": "[encoded data removed]",
      "text/plain": [
       "<Figure size 432x288 with 2 Axes>"
      ]
     },
     "metadata": {
      "needs_background": "light"
     },
     "output_type": "display_data"
    }
   ],
   "source": [
    "fig = plt.figure()\n",
    "plt_x = fig.add_subplot(2,1,1)\n",
    "plt_x.grid(True)\n",
    "plt_y = fig.add_subplot(2,1,2)\n",
    "plt_y.grid(True)\n",
    "max_length_y = 0\n",
    "max_length_x = 0\n",
    "\n",
    "for veh_id in selected_vehicle_ids:\n",
    "    df_of_veh = df_mini[df_mini['vehicle_id'] == veh_id]\n",
    "    t_vec = df_of_veh['time'].to_numpy()\n",
    "    t_vec = t_vec - t_vec[0]\n",
    "    x_vec = df_of_veh['x'].to_numpy()\n",
    "    y_vec = df_of_veh['y'].to_numpy()\n",
    "    if x_vec.shape[0] > max_length_x:\n",
    "        max_length_x = x_vec.shape[0]\n",
    "    if y_vec.shape[0] > max_length_y:\n",
    "        max_length_y = y_vec.shape[0]\n",
    "    plt_x.plot(t_vec, x_vec)\n",
    "    plt_y.plot(t_vec, y_vec)\n",
    "\n",
    "print('Max length of trajectory x: {:d}'.format(max_length_x))\n",
    "print('Max length of trajectory y: {:d}'.format(max_length_y))"
   ]
  },
  {
   "cell_type": "code",
   "execution_count": 5,
   "metadata": {},
   "outputs": [],
   "source": [
    "# Export the data to CSV to be processed with unsupervised segmentation in R\n",
    "df_mini[['vehicle_id','time','x','y']].to_csv('edge_trajectories.csv')"
   ]
  },
  {
   "cell_type": "code",
   "execution_count": null,
   "metadata": {},
   "outputs": [],
   "source": []
  }
 ],
 "metadata": {
  "kernelspec": {
   "display_name": "Python 3.9.7 ('liberty')",
   "language": "python",
   "name": "python3"
  },
  "language_info": {
   "codemirror_mode": {
    "name": "ipython",
    "version": 3
   },
   "file_extension": ".py",
   "mimetype": "text/x-python",
   "name": "python",
   "nbconvert_exporter": "python",
   "pygments_lexer": "ipython3",
   "version": "3.9.7"
  },
  "orig_nbformat": 4,
  "vscode": {
   "interpreter": {
    "hash": "64b90a637096cb0c3a78b87e1faf5cd67d51ac54caf03738def4aea1bc0fda76"
   }
  }
 },
 "nbformat": 4,
 "nbformat_minor": 2
}
