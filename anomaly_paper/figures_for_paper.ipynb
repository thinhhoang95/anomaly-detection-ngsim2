{
 "cells": [
  {
   "cell_type": "code",
   "execution_count": 106,
   "metadata": {},
   "outputs": [],
   "source": [
    "import numpy as np \n",
    "from matplotlib import pyplot as plt"
   ]
  },
  {
   "cell_type": "code",
   "execution_count": 107,
   "metadata": {},
   "outputs": [],
   "source": [
    "# Gaussian 1\n",
    "mu_1 = np.array([0, 0])\n",
    "cov_1 = np.array([[1, 0], [0, 1]])\n",
    "\n",
    "# Gaussian 2\n",
    "mu_2 = np.array([0, 0])\n",
    "# Eigendecomposition of the covariance matrix\n",
    "eig_vals, eig_vecs = np.linalg.eig(np.array([[1,3], [3, 4]]))\n",
    "cov_2 = eig_vecs @ np.diag(np.array([2,4])) @ eig_vecs.T"
   ]
  },
  {
   "cell_type": "code",
   "execution_count": 108,
   "metadata": {},
   "outputs": [],
   "source": [
    "# R is square root of cov_1\n",
    "R = np.linalg.inv(np.linalg.cholesky(cov_2))"
   ]
  },
  {
   "cell_type": "code",
   "execution_count": 92,
   "metadata": {},
   "outputs": [],
   "source": [
    "# Sample 20 points from Gaussian 2\n",
    "X_2 = np.random.multivariate_normal(mu_2, cov_2, 20)"
   ]
  },
  {
   "cell_type": "code",
   "execution_count": 93,
   "metadata": {},
   "outputs": [],
   "source": [
    "X_2 = np.append(X_2, [[5, -5]], axis=0) # anomaly datapoint"
   ]
  },
  {
   "cell_type": "code",
   "execution_count": 94,
   "metadata": {},
   "outputs": [],
   "source": [
    "# Transform X_2 to X_1\n",
    "X_1 = X_2 @ R"
   ]
  },
  {
   "cell_type": "code",
   "execution_count": 95,
   "metadata": {},
   "outputs": [
    {
     "data": {
      "image/png": "[encoded data removed]",
      "text/plain": [
       "<Figure size 300x300 with 1 Axes>"
      ]
     },
     "metadata": {},
     "output_type": "display_data"
    }
   ],
   "source": [
    "from scipy.stats import multivariate_normal\n",
    "\n",
    "plt.figure(figsize=(3,3))\n",
    "# Plot the two Gaussians\n",
    "x, y = np.mgrid[-6:6:.01, -6:6:.01]\n",
    "pos = np.dstack((x, y))\n",
    "plt.contourf(x, y, rv_2.pdf(pos), cmap='Reds')\n",
    "#plt.contourf(x, y, rv_1.pdf(pos), cmap='Blues', alpha=0.5)\n",
    "\n",
    "# Scatter plot the samples X_2\n",
    "plt.scatter(X_2[:,0], X_2[:,1], s=3, color='red', alpha=0.5)\n",
    "plt.text(5.5, -5.5, 'A', fontsize=10)\n",
    "\n",
    "# Scatter plot the samples X_1\n",
    "# plt.scatter(X_1[:,0], X_1[:,1], s=3, color='blue', alpha=0.5)\n",
    "\n",
    "plt.savefig('gaussian_skewed.pdf', bbox_inches='tight')"
   ]
  },
  {
   "cell_type": "code",
   "execution_count": 96,
   "metadata": {},
   "outputs": [
    {
     "data": {
      "image/png": "[encoded data removed]",
      "text/plain": [
       "<Figure size 300x300 with 1 Axes>"
      ]
     },
     "metadata": {},
     "output_type": "display_data"
    }
   ],
   "source": [
    "from scipy.stats import multivariate_normal\n",
    "\n",
    "plt.figure(figsize=(3,3))\n",
    "# Plot the two Gaussians\n",
    "x, y = np.mgrid[-5:5:.01, -5:5:.01]\n",
    "pos = np.dstack((x, y))\n",
    "#plt.contourf(x, y, rv_2.pdf(pos), cmap='Reds')\n",
    "plt.contourf(x, y, rv_1.pdf(pos), cmap='Blues')\n",
    "\n",
    "# Scatter plot the samples X_2\n",
    "#plt.scatter(X_2[:,0], X_2[:,1], s=3, color='red', alpha=0.5)\n",
    "\n",
    "# Scatter plot the samples X_1\n",
    "plt.scatter(X_1[:,0], X_1[:,1], s=3, color='blue', alpha=0.5)\n",
    "plt.text(X_1[-1,0]+0.5, X_1[-1,1]-0.5, 'A', fontsize=10)\n",
    "\n",
    "plt.savefig('gaussian_circular.pdf', bbox_inches='tight')"
   ]
  },
  {
   "cell_type": "code",
   "execution_count": null,
   "metadata": {},
   "outputs": [],
   "source": []
  }
 ],
 "metadata": {
  "kernelspec": {
   "display_name": "liberty2",
   "language": "python",
   "name": "python3"
  },
  "language_info": {
   "codemirror_mode": {
    "name": "ipython",
    "version": 3
   },
   "file_extension": ".py",
   "mimetype": "text/x-python",
   "name": "python",
   "nbconvert_exporter": "python",
   "pygments_lexer": "ipython3",
   "version": "3.10.6"
  },
  "orig_nbformat": 4
 },
 "nbformat": 4,
 "nbformat_minor": 2
}
