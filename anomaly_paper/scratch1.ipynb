{
 "cells": [
  {
   "cell_type": "code",
   "execution_count": 10,
   "metadata": {},
   "outputs": [],
   "source": [
    "import numpy as np\n",
    "from matplotlib import pyplot as plt \n",
    "from scipy import linalg"
   ]
  },
  {
   "cell_type": "code",
   "execution_count": 2,
   "metadata": {},
   "outputs": [],
   "source": [
    "# Gaussian 2\n",
    "mu = np.array([0, 0])\n",
    "# Eigendecomposition of the covariance matrix\n",
    "eig_vals, eig_vecs = np.linalg.eig(np.array([[1,3], [3, 4]]))\n",
    "cov = eig_vecs @ np.diag(np.array([2,4])) @ eig_vecs.T"
   ]
  },
  {
   "cell_type": "code",
   "execution_count": 5,
   "metadata": {},
   "outputs": [
    {
     "name": "stdout",
     "output_type": "stream",
     "text": [
      "Gaussian mean:  [0 0]\n",
      "Gaussian covariance:\n",
      " [[2.5527864  0.89442719]\n",
      " [0.89442719 3.4472136 ]]\n"
     ]
    }
   ],
   "source": [
    "print('Gaussian mean: ', mu)\n",
    "print('Gaussian covariance:\\n', cov)"
   ]
  },
  {
   "cell_type": "code",
   "execution_count": 14,
   "metadata": {},
   "outputs": [
    {
     "name": "stdout",
     "output_type": "stream",
     "text": [
      "Matrix square-root:\n",
      " [[1.57612095 0.26197166]\n",
      " [0.26197166 1.83809261]]\n",
      "Check: R @ R - cov =\n",
      " [[1.33226763e-15 5.55111512e-16]\n",
      " [0.00000000e+00 8.88178420e-16]]\n"
     ]
    }
   ],
   "source": [
    "R = linalg.sqrtm(cov)\n",
    "print('Matrix square-root:\\n', R)\n",
    "print('Check: R @ R - cov =\\n', R @ R - cov)"
   ]
  },
  {
   "cell_type": "code",
   "execution_count": 18,
   "metadata": {},
   "outputs": [
    {
     "data": {
      "text/plain": [
       "array([[ 1.00000000e+00,  4.82788821e-17],\n",
       "       [-1.14658732e-16,  1.00000000e+00]])"
      ]
     },
     "execution_count": 18,
     "metadata": {},
     "output_type": "execute_result"
    }
   ],
   "source": [
    "R @ np.linalg.inv(cov) @ R"
   ]
  },
  {
   "cell_type": "code",
   "execution_count": 24,
   "metadata": {},
   "outputs": [
    {
     "data": {
      "text/plain": [
       "array([[ 1,  3,  4],\n",
       "       [ 3,  9, 12],\n",
       "       [ 4, 12, 16]])"
      ]
     },
     "execution_count": 24,
     "metadata": {},
     "output_type": "execute_result"
    }
   ],
   "source": [
    "(np.array([[1,3,4]]).T @ np.array([[1,3,4]])).T"
   ]
  },
  {
   "cell_type": "code",
   "execution_count": null,
   "metadata": {},
   "outputs": [],
   "source": []
  }
 ],
 "metadata": {
  "kernelspec": {
   "display_name": "liberty2",
   "language": "python",
   "name": "python3"
  },
  "language_info": {
   "codemirror_mode": {
    "name": "ipython",
    "version": 3
   },
   "file_extension": ".py",
   "mimetype": "text/x-python",
   "name": "python",
   "nbconvert_exporter": "python",
   "pygments_lexer": "ipython3",
   "version": "3.10.6"
  },
  "orig_nbformat": 4
 },
 "nbformat": 4,
 "nbformat_minor": 2
}
